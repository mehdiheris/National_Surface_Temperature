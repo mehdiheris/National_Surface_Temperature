{
 "cells": [
  {
   "cell_type": "code",
   "execution_count": 2,
   "id": "59d7f1d6-93c3-4cbe-ad88-4cd9b17ac840",
   "metadata": {},
   "outputs": [],
   "source": [
    "import numpy as np\n",
    "import  h5py\n",
    "import matplotlib.pyplot as plt\n",
    "import time\n",
    "import rasterio\n",
    "from rasterio.windows import Window"
   ]
  },
  {
   "cell_type": "code",
   "execution_count": 3,
   "id": "81e177f9-54d0-4d6c-8d4a-68b178bb30b2",
   "metadata": {},
   "outputs": [],
   "source": [
    "file_name = r'H:/lst-national-mosaic-july2024.hdf5'\n"
   ]
  },
  {
   "cell_type": "code",
   "execution_count": null,
   "id": "2abf657d-aa88-489f-963b-569d6d4191a8",
   "metadata": {},
   "outputs": [],
   "source": [
    "# print the name of levels and their shapdes\n",
    "with h5py.File(file_name, 'r') as f:\n",
    "    for item in f:\n",
    "        print(item)\n",
    "        print(f[item].shape)"
   ]
  },
  {
   "cell_type": "code",
   "execution_count": 5,
   "id": "2eee9303-0570-4853-970f-1b1989a26116",
   "metadata": {},
   "outputs": [
    {
     "data": {
      "text/plain": [
       "{'driver': 'HFA', 'dtype': 'uint8', 'nodata': None, 'width': 161190, 'height': 104424, 'count': 1, 'crs': CRS.from_wkt('PROJCS[\"Albers_Conical_Equal_Area\",GEOGCS[\"WGS 84\",DATUM[\"WGS_1984\",SPHEROID[\"WGS 84\",6378137,298.257223563,AUTHORITY[\"EPSG\",\"7030\"]],AUTHORITY[\"EPSG\",\"6326\"]],PRIMEM[\"Greenwich\",0,AUTHORITY[\"EPSG\",\"8901\"]],UNIT[\"degree\",0.0174532925199433,AUTHORITY[\"EPSG\",\"9122\"]],AUTHORITY[\"EPSG\",\"4326\"]],PROJECTION[\"Albers_Conic_Equal_Area\"],PARAMETER[\"latitude_of_center\",23],PARAMETER[\"longitude_of_center\",-96],PARAMETER[\"standard_parallel_1\",29.5],PARAMETER[\"standard_parallel_2\",45.5],PARAMETER[\"false_easting\",0],PARAMETER[\"false_northing\",0],UNIT[\"meters\",1],AXIS[\"Easting\",EAST],AXIS[\"Northing\",NORTH]]'), 'transform': Affine(30.0, 0.0, -2493045.0,\n",
       "       0.0, -30.0, 3310005.0), 'blockxsize': 512, 'blockysize': 512, 'tiled': True}"
      ]
     },
     "execution_count": 5,
     "metadata": {},
     "output_type": "execute_result"
    }
   ],
   "source": [
    "rasterAddress = r'G:/NLCD/nlcd_2021_land_cover_l48_20230630.img'\n",
    "with rasterio.open(rasterAddress,'r') as rst:\n",
    "    metadata = rst.profile\n",
    "    rstShape = rst.shape\n",
    "metadata"
   ]
  },
  {
   "cell_type": "code",
   "execution_count": 6,
   "id": "415e650e-c309-42a7-bfbb-b411d32d6500",
   "metadata": {},
   "outputs": [
    {
     "data": {
      "text/plain": [
       "{'driver': 'HFA', 'dtype': 'int16', 'nodata': 9999, 'width': 161190, 'height': 104424, 'count': 1, 'crs': CRS.from_wkt('PROJCS[\"Albers_Conical_Equal_Area\",GEOGCS[\"WGS 84\",DATUM[\"WGS_1984\",SPHEROID[\"WGS 84\",6378137,298.257223563,AUTHORITY[\"EPSG\",\"7030\"]],AUTHORITY[\"EPSG\",\"6326\"]],PRIMEM[\"Greenwich\",0,AUTHORITY[\"EPSG\",\"8901\"]],UNIT[\"degree\",0.0174532925199433,AUTHORITY[\"EPSG\",\"9122\"]],AUTHORITY[\"EPSG\",\"4326\"]],PROJECTION[\"Albers_Conic_Equal_Area\"],PARAMETER[\"latitude_of_center\",23],PARAMETER[\"longitude_of_center\",-96],PARAMETER[\"standard_parallel_1\",29.5],PARAMETER[\"standard_parallel_2\",45.5],PARAMETER[\"false_easting\",0],PARAMETER[\"false_northing\",0],UNIT[\"meters\",1],AXIS[\"Easting\",EAST],AXIS[\"Northing\",NORTH]]'), 'transform': Affine(30.0, 0.0, -2493045.0,\n",
       "       0.0, -30.0, 3310005.0), 'blockxsize': 512, 'blockysize': 512, 'tiled': True}"
      ]
     },
     "execution_count": 6,
     "metadata": {},
     "output_type": "execute_result"
    }
   ],
   "source": [
    "output_file = 'outputRaster.img'\n",
    "metadata['count']= 1\n",
    "metadata['dtype']='int16'\n",
    "metadata['nodata']= 9999\n",
    "metadata"
   ]
  },
  {
   "cell_type": "code",
   "execution_count": null,
   "id": "fda0e2e3-af54-47b8-8ef5-c0e1ca4dc7ae",
   "metadata": {},
   "outputs": [],
   "source": [
    "start_time = time.time()\n",
    "lstError =[]\n",
    "window_size = 5000\n",
    "with rasterio.open(output_file, 'w', **metadata) as dst:\n",
    "    for i in range(0, rstShape[0], window_size):\n",
    "        for j in range(0, rstShape[1], window_size):\n",
    "            end_i = min(i + window_size, rstShape[0])\n",
    "            end_j = min(j + window_size, rstShape[1])\n",
    "            # if (i >=30000) and (i <=40000) and (j>=100000) and (j<=110000): # a test\n",
    "            print(i,end_i,j,end_j)\n",
    "            arrays = []\n",
    "            with h5py.File(file_name, 'r') as f:\n",
    "                for l in range(1, 53):\n",
    "                    level_name = f'level{l:02d}'\n",
    "                    if level_name in f:\n",
    "                        array_2d = f[level_name][i:end_i, j:end_j]  # Read the first 5 rows and all columns\n",
    "                        arrays.append(array_2d)  # Append the 2D array to the list\n",
    "            # print('yes')\n",
    "            \n",
    "            # Stack all 2D arrays into a 3D NumPy array\n",
    "            stacked_array = np.stack(arrays)\n",
    "            stacked_array_with_nan = np.where(stacked_array == 0, np.nan, stacked_array)\n",
    "            # convert the DN to T and then C.\n",
    "            # a = ((stacked_array_with_nan*0.00341802)+149.0)- 273.15\n",
    "            a = ((stacked_array_with_nan*0.00341802)-124.149999) # 149 -273.15= - 124.14999999\n",
    "            s = (np.nanmedian(a,axis=0))\n",
    "            s = np.nan_to_num(s, nan=99.99)\n",
    "            v = (s*100).astype('int16')\n",
    "            # Write the window to the raster file\n",
    "            win = Window.from_slices((i, end_i), (j, end_j))\n",
    "            # dst.write(v,window=win, indexes=1)\n",
    "            # del arrays,a,s,v,stacked_array,stacked_array_with_nan\n",
    "\n",
    "            # except:\n",
    "            #     lstError.append([i,j])\n",
    "            #     print('got an erro')\n",
    "            break   \n",
    "endtime = time.time()\n",
    "print('time is: ',(endtime - start_time)/60)"
   ]
  },
  {
   "cell_type": "code",
   "execution_count": null,
   "id": "9e59f2b2-deab-4733-9cf8-b57f6194b09c",
   "metadata": {},
   "outputs": [],
   "source": [
    "55/9"
   ]
  },
  {
   "cell_type": "code",
   "execution_count": null,
   "id": "e9354dc4-f00d-4535-bb10-e94f4acb3f82",
   "metadata": {},
   "outputs": [],
   "source": []
  }
 ],
 "metadata": {
  "kernelspec": {
   "display_name": "Python 3 (ipykernel)",
   "language": "python",
   "name": "python3"
  },
  "language_info": {
   "codemirror_mode": {
    "name": "ipython",
    "version": 3
   },
   "file_extension": ".py",
   "mimetype": "text/x-python",
   "name": "python",
   "nbconvert_exporter": "python",
   "pygments_lexer": "ipython3",
   "version": "3.12.4"
  }
 },
 "nbformat": 4,
 "nbformat_minor": 5
}
